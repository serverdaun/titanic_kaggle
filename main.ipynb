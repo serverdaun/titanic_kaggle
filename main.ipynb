{
 "cells": [
  {
   "metadata": {},
   "cell_type": "code",
   "source": [
    "# Setting auto reloading for imported modules\n",
    "%load_ext autoreload\n",
    "%autoreload 2"
   ],
   "id": "2bda790d5f39a6b5",
   "outputs": [],
   "execution_count": null
  },
  {
   "cell_type": "code",
   "id": "initial_id",
   "metadata": {
    "collapsed": true
   },
   "source": [
    "import pandas as pd\n",
    "import numpy as np\n",
    "import missingno as msno\n",
    "import seaborn as sns\n",
    "import matplotlib.pyplot as plt\n",
    "from auxiliary_functions import Utils\n",
    "from sklearn.model_selection import train_test_split\n",
    "from sklearn.metrics import accuracy_score, f1_score\n",
    "from sklearn.ensemble import RandomForestClassifier, GradientBoostingClassifier\n",
    "from sklearn.linear_model import LogisticRegression\n",
    "from sklearn.svm import SVC\n",
    "from sklearn.tree import DecisionTreeClassifier"
   ],
   "outputs": [],
   "execution_count": null
  },
  {
   "metadata": {},
   "cell_type": "code",
   "source": "utils = Utils()",
   "id": "91e31456e46b4454",
   "outputs": [],
   "execution_count": null
  },
  {
   "metadata": {},
   "cell_type": "code",
   "source": [
    "df = pd.read_csv('data/train.csv')\n",
    "df.head()"
   ],
   "id": "68ebb7d5042f679e",
   "outputs": [],
   "execution_count": null
  },
  {
   "metadata": {},
   "cell_type": "code",
   "source": "df.dtypes",
   "id": "b1c2834311865a6f",
   "outputs": [],
   "execution_count": null
  },
  {
   "metadata": {},
   "cell_type": "markdown",
   "source": [
    "**Data preprocessing**\n",
    "<br>\n",
    "*Duplicates*"
   ],
   "id": "c17dfe22f6ad8fec"
  },
  {
   "metadata": {},
   "cell_type": "code",
   "source": "df.shape",
   "id": "db0e7f2b3381dae",
   "outputs": [],
   "execution_count": null
  },
  {
   "metadata": {},
   "cell_type": "code",
   "source": "df.describe(include='all')",
   "id": "8f48f5aec9ebc340",
   "outputs": [],
   "execution_count": null
  },
  {
   "metadata": {},
   "cell_type": "code",
   "source": [
    "def check_duplicates(df: pd.DataFrame) -> None:\n",
    "    duplicates = df[df.duplicated(keep=False)]\n",
    "    if duplicates.empty:\n",
    "        print('There are no duplicate entries in this dataset.')\n",
    "    else:\n",
    "        print(f'Number of duplicate entries in this dataset: {len(duplicates)}')\n",
    "        print(f'Duplicated rows:\\n {duplicates}')\n",
    "\n",
    "check_duplicates(df)"
   ],
   "id": "1920be173815f079",
   "outputs": [],
   "execution_count": null
  },
  {
   "metadata": {},
   "cell_type": "markdown",
   "source": [
    "**Data preprocessing**\n",
    "<br>\n",
    "*Handle Missing Values*"
   ],
   "id": "c2dafb041197a6a0"
  },
  {
   "metadata": {},
   "cell_type": "code",
   "source": "msno.matrix(df);",
   "id": "a6f99fde62646b97",
   "outputs": [],
   "execution_count": null
  },
  {
   "metadata": {},
   "cell_type": "code",
   "source": "utils.missing_values_percentage(df)",
   "id": "490ae9cd5e49936c",
   "outputs": [],
   "execution_count": null
  },
  {
   "metadata": {},
   "cell_type": "code",
   "source": "df.Cabin.value_counts(dropna=False)",
   "id": "a90998b30bec2da",
   "outputs": [],
   "execution_count": null
  },
  {
   "metadata": {},
   "cell_type": "code",
   "source": "df[df.Cabin.notna()]",
   "id": "8b0ed81cc7ffcb35",
   "outputs": [],
   "execution_count": null
  },
  {
   "metadata": {},
   "cell_type": "code",
   "source": [
    "df['cabin_letter_code'] = df['Cabin'].apply(lambda x: x[0] if pd.notna(x) else 'None')\n",
    "df['no_of_cabins'] = df['Cabin'].apply(lambda x: len(x.split()) if pd.notna(x) else 0)\n",
    "df = df.drop(columns=['Cabin'], axis=1)\n",
    "df['cabin_letter_code'].value_counts()"
   ],
   "id": "1374920307922aee",
   "outputs": [],
   "execution_count": null
  },
  {
   "metadata": {},
   "cell_type": "code",
   "source": "utils.missing_values_percentage(df)",
   "id": "e1b78d80fff57831",
   "outputs": [],
   "execution_count": null
  },
  {
   "metadata": {},
   "cell_type": "code",
   "source": "df['Age'].value_counts(dropna=False)",
   "id": "701f61050bac5d44",
   "outputs": [],
   "execution_count": null
  },
  {
   "metadata": {},
   "cell_type": "code",
   "source": [
    "# Imputation Based on Segmentation\n",
    "sns.boxplot(x='Sex', y='Age', data=df)\n",
    "plt.title('Age vs Gender')\n",
    "plt.show()\n",
    "mean_age_by_gender = round(df.groupby('Sex')['Age'].mean(), 0)\n",
    "print(f\"Mean age for gender groups:\\n{mean_age_by_gender}\")\n",
    "\n",
    "sns.boxplot(x='Pclass', y='Age',data=df)\n",
    "plt.title('Age vs Pclass')\n",
    "plt.show()\n",
    "mean_age_by_pclass = round(df.groupby('Pclass')['Age'].mean(), 0)\n",
    "print(f\"Mean age for passenger class groups{mean_age_by_pclass}\")"
   ],
   "id": "e67a1f800efe69f7",
   "outputs": [],
   "execution_count": null
  },
  {
   "metadata": {},
   "cell_type": "code",
   "source": [
    "mean_age_by_gender = round(df.groupby(['Sex', 'Pclass'])['Age'].mean(), 0)\n",
    "print(mean_age_by_gender)"
   ],
   "id": "48f09ca566d6a187",
   "outputs": [],
   "execution_count": null
  },
  {
   "metadata": {},
   "cell_type": "code",
   "source": [
    "df['Age'] = df.groupby(['Sex', 'Pclass'])['Age'].transform(lambda x: x.fillna(x.mean()))\n",
    "df.Age.describe()"
   ],
   "id": "8dd22c4af1ae18aa",
   "outputs": [],
   "execution_count": null
  },
  {
   "metadata": {},
   "cell_type": "code",
   "source": "utils.missing_values_percentage(df)",
   "id": "1c4ce821a7c40bcd",
   "outputs": [],
   "execution_count": null
  },
  {
   "metadata": {},
   "cell_type": "code",
   "source": "df['Embarked'].value_counts(dropna=False)",
   "id": "8a55e26daf787f5a",
   "outputs": [],
   "execution_count": null
  },
  {
   "metadata": {},
   "cell_type": "code",
   "source": [
    "embarked_mode = df['Embarked'].mode()[0]\n",
    "df['Embarked'] = df['Embarked'].fillna(embarked_mode)\n",
    "utils.missing_values_percentage(df)"
   ],
   "id": "84f6e74eb3929e16",
   "outputs": [],
   "execution_count": null
  },
  {
   "metadata": {},
   "cell_type": "code",
   "source": "df.dtypes",
   "id": "e6caf1997ea4a11d",
   "outputs": [],
   "execution_count": null
  },
  {
   "metadata": {},
   "cell_type": "markdown",
   "source": [
    "**Data preprocessing**\n",
    "<br>\n",
    "*Data Cleaning/Outliers*"
   ],
   "id": "b4eb7b4f7c9d0d00"
  },
  {
   "metadata": {},
   "cell_type": "code",
   "source": "df.head()",
   "id": "4ed21fc1c3930f4d",
   "outputs": [],
   "execution_count": null
  },
  {
   "metadata": {},
   "cell_type": "code",
   "source": [
    "sns.boxplot(df['Fare'])\n",
    "plt.show()"
   ],
   "id": "7ff460754bece23d",
   "outputs": [],
   "execution_count": null
  },
  {
   "metadata": {},
   "cell_type": "code",
   "source": [
    "outliers_fare, fare_boundaries = utils.find_outliers_iqr(df=df, column='Fare')\n",
    "print(outliers_fare['Survived'].value_counts())\n",
    "outliers_fare"
   ],
   "id": "58d4ebb8a3301074",
   "outputs": [],
   "execution_count": null
  },
  {
   "metadata": {},
   "cell_type": "markdown",
   "source": "Outliers in 'Fare' column should be kept as they correspond with the survival",
   "id": "82f7336882a9a022"
  },
  {
   "metadata": {},
   "cell_type": "code",
   "source": [
    "sns.boxplot(df['Age'])\n",
    "plt.show()"
   ],
   "id": "d00f45192c5c4867",
   "outputs": [],
   "execution_count": null
  },
  {
   "metadata": {},
   "cell_type": "code",
   "source": [
    "age_outliers, age_boundaries = utils.find_outliers_iqr(df=df, column='Age')\n",
    "print(age_outliers['Survived'].value_counts())\n",
    "age_outliers"
   ],
   "id": "8a822ac7c67c838",
   "outputs": [],
   "execution_count": null
  },
  {
   "metadata": {},
   "cell_type": "markdown",
   "source": "Outliers in 'Age' column should be capped as they do have weak correspond rate with the survival",
   "id": "268bf4fc6ebe4062"
  },
  {
   "metadata": {},
   "cell_type": "code",
   "source": "df['Age'] = np.where(df['Age'] > age_boundaries[1], age_boundaries[1], df['Age'])",
   "id": "a258727b94af1358",
   "outputs": [],
   "execution_count": null
  },
  {
   "metadata": {},
   "cell_type": "markdown",
   "source": "**Exploratory Data Analysis**",
   "id": "6a3a9812c96976dc"
  },
  {
   "metadata": {},
   "cell_type": "code",
   "source": "df.head()",
   "id": "5c2140a4de593f2",
   "outputs": [],
   "execution_count": null
  },
  {
   "metadata": {},
   "cell_type": "code",
   "source": [
    "categorical_features = ['Pclass', 'Sex', 'SibSp', 'Parch', 'cabin_letter_code']\n",
    "continuous_features = ['Age', 'Fare']\n",
    "target_feature = 'Survived'"
   ],
   "id": "7e0d6ef14617acb0",
   "outputs": [],
   "execution_count": null
  },
  {
   "metadata": {},
   "cell_type": "markdown",
   "source": "Univariate Analysis of the Target Feature",
   "id": "2319be24838c3bff"
  },
  {
   "metadata": {},
   "cell_type": "code",
   "source": "utils.create_bar_plot(df=df, column=target_feature)",
   "id": "d172193325941f69",
   "outputs": [],
   "execution_count": null
  },
  {
   "metadata": {},
   "cell_type": "markdown",
   "source": "Univariate Analysis of Other Features",
   "id": "1a0c8917196c8438"
  },
  {
   "metadata": {},
   "cell_type": "code",
   "source": [
    "for feature in categorical_features:\n",
    "    utils.create_bar_plot(df=df, column=feature)"
   ],
   "id": "3aed1a16bef94739",
   "outputs": [],
   "execution_count": null
  },
  {
   "metadata": {},
   "cell_type": "markdown",
   "source": "Bivariate Analysis Between Features and Target Feature",
   "id": "423abf39253c4e85"
  },
  {
   "metadata": {},
   "cell_type": "code",
   "source": [
    "for feature in categorical_features:\n",
    "    utils.create_bivar_bar_plot(df=df, column=feature, target_feature=target_feature)"
   ],
   "id": "1a2360ae4160366d",
   "outputs": [],
   "execution_count": null
  },
  {
   "metadata": {},
   "cell_type": "code",
   "source": [
    "for feature in continuous_features:\n",
    "    utils.create_bivar_violin_plot(column=feature, target_feature=target_feature, df=df)"
   ],
   "id": "f1dd81c6ee0075e5",
   "outputs": [],
   "execution_count": null
  },
  {
   "metadata": {},
   "cell_type": "markdown",
   "source": [
    "**Feature Engineering**\n",
    "<br>\n",
    "*New Feature Creation*"
   ],
   "id": "175a5c2624876fd0"
  },
  {
   "metadata": {},
   "cell_type": "code",
   "source": "df.head()",
   "id": "ab44cbb81b55fe9c",
   "outputs": [],
   "execution_count": null
  },
  {
   "metadata": {},
   "cell_type": "code",
   "source": "df['family_size'] = df['SibSp'] + df['Parch'] + 1",
   "id": "e76a8a67b4b65a42",
   "outputs": [],
   "execution_count": null
  },
  {
   "metadata": {},
   "cell_type": "code",
   "source": "df['is_alone'] = (df['family_size'] == 1).astype(int)",
   "id": "bf2ce6d7c62e9d8",
   "outputs": [],
   "execution_count": null
  },
  {
   "metadata": {},
   "cell_type": "code",
   "source": [
    "df['title'] = df['Name'].str.extract(' ([A-Za-z]+)\\\\.', expand=False)\n",
    "df['name_length'] = df['Name'].apply(len)"
   ],
   "id": "d7e4f6265773afa1",
   "outputs": [],
   "execution_count": null
  },
  {
   "metadata": {},
   "cell_type": "code",
   "source": [
    "df['ticket_prefix'] = df['Ticket'].str.extract('([A-Za-z]+)', expand=False).fillna('None')\n",
    "df['ticket_length'] = df['Ticket'].apply(len)"
   ],
   "id": "93b167885a48dbb2",
   "outputs": [],
   "execution_count": null
  },
  {
   "metadata": {},
   "cell_type": "code",
   "source": "df['age_category'] = pd.cut(df['Age'], bins=[0, 12, 18, 25, 35, 60, 100], labels=['child', 'teen', 'young adult', 'adult', 'middle aged', 'senior'])",
   "id": "5d2cb53535824eee",
   "outputs": [],
   "execution_count": null
  },
  {
   "metadata": {},
   "cell_type": "code",
   "source": [
    "cols_to_drop = ['PassengerId', 'Name', 'Ticket']\n",
    "df = df.drop(cols_to_drop, axis=1)"
   ],
   "id": "af848d40b99b6922",
   "outputs": [],
   "execution_count": null
  },
  {
   "metadata": {},
   "cell_type": "markdown",
   "source": "*Feature Transformation*",
   "id": "e8eec08f7e4ae3b6"
  },
  {
   "metadata": {},
   "cell_type": "code",
   "source": [
    "categorical_features = df.select_dtypes(include=['object', 'category']).columns\n",
    "\n",
    "for feature in categorical_features:\n",
    "    df = utils.categorical_feature_ohe(df=df, column=feature)    "
   ],
   "id": "8879f6f874492a88",
   "outputs": [],
   "execution_count": null
  },
  {
   "metadata": {},
   "cell_type": "code",
   "source": [
    "numerical_features = ['Age', 'Fare', 'name_length', 'ticket_length']\n",
    "\n",
    "for feature in numerical_features:\n",
    "    df = utils.numerical_feature_std(df=df, column=feature)"
   ],
   "id": "ba87a3df419c448b",
   "outputs": [],
   "execution_count": null
  },
  {
   "metadata": {},
   "cell_type": "code",
   "source": "df.head()",
   "id": "da324b160d87994a",
   "outputs": [],
   "execution_count": null
  },
  {
   "metadata": {},
   "cell_type": "markdown",
   "source": "**Modeling**",
   "id": "a4f402bd7785c035"
  },
  {
   "metadata": {},
   "cell_type": "code",
   "source": [
    "X = df.drop(columns=[target_feature], axis=1)\n",
    "y = df[target_feature]"
   ],
   "id": "a06ffa19e6a6aec3",
   "outputs": [],
   "execution_count": null
  },
  {
   "metadata": {},
   "cell_type": "code",
   "source": "X_train, X_test, y_train, y_test = train_test_split(X, y, test_size=0.2, random_state=42)",
   "id": "c048e8bb01023c9d",
   "outputs": [],
   "execution_count": null
  },
  {
   "metadata": {},
   "cell_type": "code",
   "source": [
    "models = {\n",
    "    'Logistic Regression': LogisticRegression(max_iter=1000),\n",
    "    'Random Forest': RandomForestClassifier(),\n",
    "    'Gradient Boosting': GradientBoostingClassifier(),\n",
    "    'Support Vector Machine': SVC(),\n",
    "    'Decision Tree': DecisionTreeClassifier()\n",
    "}"
   ],
   "id": "19552d379967e23f",
   "outputs": [],
   "execution_count": null
  },
  {
   "metadata": {},
   "cell_type": "code",
   "source": "best_model, results = utils.select_best_model(models=models, x=X_train, y=y_train)",
   "id": "e3d298d1febe0cd",
   "outputs": [],
   "execution_count": null
  },
  {
   "metadata": {},
   "cell_type": "code",
   "source": [
    "param_grid = {\n",
    "    'C': [0.1, 1, 10, 100],\n",
    "    'kernel': ['linear', 'rbf', 'poly'],\n",
    "    'gamma': ['scale', 'auto', 0.001, 0.01, 0.1, 1],\n",
    "    'degree': [2, 3, 4],\n",
    "    'coef0': [0.0, 0.1, 0.5]\n",
    "}\n",
    "\n",
    "best_params = utils.hyper_params_tuning(model=best_model, param_grid=param_grid, x=X, y=y)"
   ],
   "id": "7e7ecd6044c56c06",
   "outputs": [],
   "execution_count": null
  },
  {
   "metadata": {},
   "cell_type": "code",
   "source": [
    "svc = SVC(**best_params)\n",
    "svc.fit(X_train, y_train)\n",
    "\n",
    "predictions = svc.predict(X_test)\n",
    "test_accuracy = accuracy_score(y_test, predictions)\n",
    "test_f1 = f1_score(y_test, predictions)\n",
    "\n",
    "print(f'Test Accuracy: {test_accuracy:.4f}')\n",
    "print(f'Test F1: {test_f1:.4f}')"
   ],
   "id": "68437f4a5ca84acc",
   "outputs": [],
   "execution_count": null
  },
  {
   "metadata": {},
   "cell_type": "code",
   "source": "",
   "id": "20d19ab2fdc70860",
   "outputs": [],
   "execution_count": null
  }
 ],
 "metadata": {
  "kernelspec": {
   "display_name": "Python 3",
   "language": "python",
   "name": "python3"
  },
  "language_info": {
   "codemirror_mode": {
    "name": "ipython",
    "version": 2
   },
   "file_extension": ".py",
   "mimetype": "text/x-python",
   "name": "python",
   "nbconvert_exporter": "python",
   "pygments_lexer": "ipython2",
   "version": "2.7.6"
  }
 },
 "nbformat": 4,
 "nbformat_minor": 5
}
